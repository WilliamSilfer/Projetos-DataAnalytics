{
 "cells": [
  {
   "cell_type": "markdown",
   "id": "863dda38-b413-4af1-998e-b98d0cae70d9",
   "metadata": {},
   "source": [
    "<H2>Estrutura em Python</H2>\n",
    "<li><lu>Puxar arquivos Views</li>\n",
    "<li>Tratar duplicados</li>\n",
    "<li>Tratar Nulos</li>\n",
    "<li>Formatar Datas</lu></li>"
   ]
  },
  {
   "cell_type": "code",
   "execution_count": 8,
   "id": "8bf0b2f7-baa6-4358-b2db-2b20c4bf6dc2",
   "metadata": {},
   "outputs": [],
   "source": [
    "# Bibliotecas\n",
    "# sqlalchemy\n",
    "# Pandas\n",
    "# dotenv\n",
    "# urlib"
   ]
  },
  {
   "cell_type": "code",
   "execution_count": 2,
   "id": "ad7b2b1d-50d7-4141-b09a-d6363d00f7bb",
   "metadata": {},
   "outputs": [
    {
     "name": "stdout",
     "output_type": "stream",
     "text": [
      "Requirement already satisfied: python-dotenv in c:\\users\\william silva\\anaconda3\\lib\\site-packages (0.21.0)\n",
      "Requirement already satisfied: psycopg2-binary in c:\\users\\william silva\\anaconda3\\lib\\site-packages (2.9.10)\n"
     ]
    }
   ],
   "source": [
    "!pip install python-dotenv\n",
    "!pip install psycopg2-binary"
   ]
  },
  {
   "cell_type": "code",
   "execution_count": 1,
   "id": "ad131258-30ee-4e3d-9ee9-0f1de683ead7",
   "metadata": {},
   "outputs": [],
   "source": [
    "from sqlalchemy import create_engine\n",
    "import urllib.parse\n",
    "import pandas as pd\n",
    "from dotenv import dotenv_values\n",
    "from decimal import Decimal "
   ]
  },
  {
   "cell_type": "code",
   "execution_count": 2,
   "id": "757cffd6-13a6-4c67-92bc-97c2a4952940",
   "metadata": {},
   "outputs": [],
   "source": [
    "# Carregar credenciais\n",
    "config = dotenv_values(\".env\")\n",
    "\n",
    "# Leitura das credenciais\n",
    "user = config[\"DB_USER\"]\n",
    "password = urllib.parse.quote_plus(config[\"DB_PASS\"])\n",
    "host = config[\"DB_HOST\"]\n",
    "port = config[\"DB_PORT\"]\n",
    "database = config[\"DB_NAME\"]"
   ]
  },
  {
   "cell_type": "code",
   "execution_count": 3,
   "id": "56ddefd6-82e6-4dec-99c5-e37aa5cdf664",
   "metadata": {},
   "outputs": [],
   "source": [
    "# Conexão\n",
    "conexao = f\"postgresql+psycopg2://{user}:{password}@{host}:{port}/{database}\"\n",
    "# Criando a engine\n",
    "engine = create_engine(conexao)"
   ]
  },
  {
   "cell_type": "code",
   "execution_count": 4,
   "id": "b5bef091-f92a-412b-9f22-d8189dd23f68",
   "metadata": {},
   "outputs": [],
   "source": [
    "# Criando uma função para ler as Views\n",
    "def carregar_views(querys):\n",
    "    df = pd.read_sql(f'SELECT * FROM sales.{querys}', engine)\n",
    "    return df"
   ]
  },
  {
   "cell_type": "code",
   "execution_count": 58,
   "id": "1b6ebcc6-f713-45c6-8185-e6d335ce81a4",
   "metadata": {},
   "outputs": [],
   "source": [
    "faixa_etaria_clientes = carregar_views(\"faixa_etaria_clientes\")\n",
    "faturamento_acumulado = carregar_views(\"faturamento_acumulado\")\n",
    "faturamento_mensal = carregar_views(\"faturamento_mensal\")\n",
    "rank_receita_estado_loja = carregar_views(\"rank_receita_estado_loja\")\n",
    "top5_produtos_vendidos = carregar_views(\"top5_produtos_vendidos\")"
   ]
  },
  {
   "cell_type": "markdown",
   "id": "f1a7ca6f-d700-4765-94de-faf09172d158",
   "metadata": {},
   "source": [
    "<h3>Explorando valores das colunas das Views</h3>"
   ]
  },
  {
   "cell_type": "code",
   "execution_count": 6,
   "id": "e257fbfe-131f-438f-9dc8-ec2d2c2bcb61",
   "metadata": {},
   "outputs": [
    {
     "name": "stdout",
     "output_type": "stream",
     "text": [
      "<class 'pandas.core.frame.DataFrame'>\n",
      "RangeIndex: 6 entries, 0 to 5\n",
      "Data columns (total 3 columns):\n",
      " #   Column        Non-Null Count  Dtype \n",
      "---  ------        --------------  ----- \n",
      " 0   qtd_clientes  6 non-null      int64 \n",
      " 1   faixa_etaria  6 non-null      object\n",
      " 2   percentual    6 non-null      object\n",
      "dtypes: int64(1), object(2)\n",
      "memory usage: 276.0+ bytes\n"
     ]
    }
   ],
   "source": [
    "faixa_etaria_clientes.info()"
   ]
  },
  {
   "cell_type": "code",
   "execution_count": 7,
   "id": "df0c58e5-e921-4787-99a0-fdf9a509a960",
   "metadata": {},
   "outputs": [
    {
     "name": "stdout",
     "output_type": "stream",
     "text": [
      "<class 'pandas.core.frame.DataFrame'>\n",
      "RangeIndex: 13 entries, 0 to 12\n",
      "Data columns (total 3 columns):\n",
      " #   Column           Non-Null Count  Dtype              \n",
      "---  ------           --------------  -----              \n",
      " 0   mes              12 non-null     datetime64[ns, UTC]\n",
      " 1   venda_mensal     13 non-null     float64            \n",
      " 2   venda_acumulada  13 non-null     float64            \n",
      "dtypes: datetime64[ns, UTC](1), float64(2)\n",
      "memory usage: 444.0 bytes\n"
     ]
    }
   ],
   "source": [
    "faturamento_acumulado.info()"
   ]
  },
  {
   "cell_type": "code",
   "execution_count": 8,
   "id": "635523db-9eda-49fa-b91a-2862aac4838f",
   "metadata": {},
   "outputs": [
    {
     "name": "stdout",
     "output_type": "stream",
     "text": [
      "<class 'pandas.core.frame.DataFrame'>\n",
      "RangeIndex: 12 entries, 0 to 11\n",
      "Data columns (total 2 columns):\n",
      " #   Column              Non-Null Count  Dtype  \n",
      "---  ------              --------------  -----  \n",
      " 0   mes                 12 non-null     float64\n",
      " 1   faturamento_mensal  12 non-null     object \n",
      "dtypes: float64(1), object(1)\n",
      "memory usage: 324.0+ bytes\n"
     ]
    }
   ],
   "source": [
    "faturamento_mensal.info()"
   ]
  },
  {
   "cell_type": "code",
   "execution_count": 9,
   "id": "29a02183-b6e4-4965-9be1-bc840a2954cf",
   "metadata": {},
   "outputs": [
    {
     "name": "stdout",
     "output_type": "stream",
     "text": [
      "<class 'pandas.core.frame.DataFrame'>\n",
      "RangeIndex: 69 entries, 0 to 68\n",
      "Data columns (total 5 columns):\n",
      " #   Column           Non-Null Count  Dtype \n",
      "---  ------           --------------  ----- \n",
      " 0   regiao           69 non-null     object\n",
      " 1   loja_nome        69 non-null     object\n",
      " 2   receita          69 non-null     object\n",
      " 3   ranking_regiao   69 non-null     int64 \n",
      " 4   ranking_receita  69 non-null     int64 \n",
      "dtypes: int64(2), object(3)\n",
      "memory usage: 2.8+ KB\n"
     ]
    }
   ],
   "source": [
    "rank_receita_estado_loja.info()"
   ]
  },
  {
   "cell_type": "code",
   "execution_count": 10,
   "id": "ebaae080-66c7-4689-bef1-6ba149b33656",
   "metadata": {},
   "outputs": [
    {
     "name": "stdout",
     "output_type": "stream",
     "text": [
      "<class 'pandas.core.frame.DataFrame'>\n",
      "RangeIndex: 5 entries, 0 to 4\n",
      "Data columns (total 3 columns):\n",
      " #   Column       Non-Null Count  Dtype \n",
      "---  ------       --------------  ----- \n",
      " 0   marca        5 non-null      object\n",
      " 1   quantidade   5 non-null      int64 \n",
      " 2   rank_vendas  5 non-null      int64 \n",
      "dtypes: int64(2), object(1)\n",
      "memory usage: 252.0+ bytes\n"
     ]
    }
   ],
   "source": [
    "top5_produtos_vendidos.info()"
   ]
  },
  {
   "cell_type": "markdown",
   "id": "422f1047-3e57-419f-ab15-ebbae8826bfb",
   "metadata": {},
   "source": [
    "# Dataframes para serem observados:\n",
    "> faturamento_acumulado<br>\n",
    "> faturamento_mensal<br>\n",
    "> rank_receita_estado_loja"
   ]
  },
  {
   "cell_type": "markdown",
   "id": "55d3d400-789d-4bf5-8454-c33937ae17e5",
   "metadata": {},
   "source": [
    "<h5>DF Faturamento Acumulado</h5>\n",
    "<li >Converter data, e padronizar valores monetários em Decimal</li>"
   ]
  },
  {
   "cell_type": "code",
   "execution_count": 16,
   "id": "f272f52a-cef6-462a-a00b-8c90fcb8de1d",
   "metadata": {},
   "outputs": [
    {
     "data": {
      "text/html": [
       "<div>\n",
       "<style scoped>\n",
       "    .dataframe tbody tr th:only-of-type {\n",
       "        vertical-align: middle;\n",
       "    }\n",
       "\n",
       "    .dataframe tbody tr th {\n",
       "        vertical-align: top;\n",
       "    }\n",
       "\n",
       "    .dataframe thead th {\n",
       "        text-align: right;\n",
       "    }\n",
       "</style>\n",
       "<table border=\"1\" class=\"dataframe\">\n",
       "  <thead>\n",
       "    <tr style=\"text-align: right;\">\n",
       "      <th></th>\n",
       "      <th>mes</th>\n",
       "      <th>venda_mensal</th>\n",
       "      <th>venda_acumulada</th>\n",
       "    </tr>\n",
       "  </thead>\n",
       "  <tbody>\n",
       "    <tr>\n",
       "      <th>0</th>\n",
       "      <td>2020-09-01 03:00:00+00:00</td>\n",
       "      <td>313050.0</td>\n",
       "      <td>313050.0</td>\n",
       "    </tr>\n",
       "    <tr>\n",
       "      <th>1</th>\n",
       "      <td>2020-10-01 03:00:00+00:00</td>\n",
       "      <td>1966170.0</td>\n",
       "      <td>2279220.0</td>\n",
       "    </tr>\n",
       "    <tr>\n",
       "      <th>2</th>\n",
       "      <td>2020-11-01 03:00:00+00:00</td>\n",
       "      <td>2709150.0</td>\n",
       "      <td>4988370.0</td>\n",
       "    </tr>\n",
       "    <tr>\n",
       "      <th>3</th>\n",
       "      <td>2020-12-01 03:00:00+00:00</td>\n",
       "      <td>2997586.0</td>\n",
       "      <td>7985956.0</td>\n",
       "    </tr>\n",
       "    <tr>\n",
       "      <th>4</th>\n",
       "      <td>2021-01-01 03:00:00+00:00</td>\n",
       "      <td>2713320.0</td>\n",
       "      <td>10699276.0</td>\n",
       "    </tr>\n",
       "  </tbody>\n",
       "</table>\n",
       "</div>"
      ],
      "text/plain": [
       "                        mes  venda_mensal  venda_acumulada\n",
       "0 2020-09-01 03:00:00+00:00      313050.0         313050.0\n",
       "1 2020-10-01 03:00:00+00:00     1966170.0        2279220.0\n",
       "2 2020-11-01 03:00:00+00:00     2709150.0        4988370.0\n",
       "3 2020-12-01 03:00:00+00:00     2997586.0        7985956.0\n",
       "4 2021-01-01 03:00:00+00:00     2713320.0       10699276.0"
      ]
     },
     "execution_count": 16,
     "metadata": {},
     "output_type": "execute_result"
    }
   ],
   "source": [
    "# Converter data, tratar nulo e padronizar valores monetários em Decimal\n",
    "faturamento_acumulado.head()"
   ]
  },
  {
   "cell_type": "code",
   "execution_count": 59,
   "id": "b11dc414-8561-4f2f-926b-8ac7745f2fe0",
   "metadata": {},
   "outputs": [
    {
     "data": {
      "text/html": [
       "<div>\n",
       "<style scoped>\n",
       "    .dataframe tbody tr th:only-of-type {\n",
       "        vertical-align: middle;\n",
       "    }\n",
       "\n",
       "    .dataframe tbody tr th {\n",
       "        vertical-align: top;\n",
       "    }\n",
       "\n",
       "    .dataframe thead th {\n",
       "        text-align: right;\n",
       "    }\n",
       "</style>\n",
       "<table border=\"1\" class=\"dataframe\">\n",
       "  <thead>\n",
       "    <tr style=\"text-align: right;\">\n",
       "      <th></th>\n",
       "      <th>mes</th>\n",
       "      <th>venda_acumulada</th>\n",
       "    </tr>\n",
       "  </thead>\n",
       "  <tbody>\n",
       "    <tr>\n",
       "      <th>0</th>\n",
       "      <td>2020-09-01</td>\n",
       "      <td>313050.0</td>\n",
       "    </tr>\n",
       "    <tr>\n",
       "      <th>1</th>\n",
       "      <td>2020-10-01</td>\n",
       "      <td>2279220.0</td>\n",
       "    </tr>\n",
       "    <tr>\n",
       "      <th>2</th>\n",
       "      <td>2020-11-01</td>\n",
       "      <td>4988370.0</td>\n",
       "    </tr>\n",
       "    <tr>\n",
       "      <th>3</th>\n",
       "      <td>2020-12-01</td>\n",
       "      <td>7985956.0</td>\n",
       "    </tr>\n",
       "    <tr>\n",
       "      <th>4</th>\n",
       "      <td>2021-01-01</td>\n",
       "      <td>10699276.0</td>\n",
       "    </tr>\n",
       "    <tr>\n",
       "      <th>5</th>\n",
       "      <td>2021-02-01</td>\n",
       "      <td>14863498.0</td>\n",
       "    </tr>\n",
       "    <tr>\n",
       "      <th>6</th>\n",
       "      <td>2021-03-01</td>\n",
       "      <td>24114067.0</td>\n",
       "    </tr>\n",
       "    <tr>\n",
       "      <th>7</th>\n",
       "      <td>2021-04-01</td>\n",
       "      <td>32983030.0</td>\n",
       "    </tr>\n",
       "    <tr>\n",
       "      <th>8</th>\n",
       "      <td>2021-05-01</td>\n",
       "      <td>58064353.0</td>\n",
       "    </tr>\n",
       "    <tr>\n",
       "      <th>9</th>\n",
       "      <td>2021-06-01</td>\n",
       "      <td>96543781.0</td>\n",
       "    </tr>\n",
       "    <tr>\n",
       "      <th>10</th>\n",
       "      <td>2021-07-01</td>\n",
       "      <td>164271251.0</td>\n",
       "    </tr>\n",
       "    <tr>\n",
       "      <th>11</th>\n",
       "      <td>2021-08-01</td>\n",
       "      <td>243358380.0</td>\n",
       "    </tr>\n",
       "    <tr>\n",
       "      <th>12</th>\n",
       "      <td>Null</td>\n",
       "      <td>1991399489.0</td>\n",
       "    </tr>\n",
       "  </tbody>\n",
       "</table>\n",
       "</div>"
      ],
      "text/plain": [
       "           mes venda_acumulada\n",
       "0   2020-09-01        313050.0\n",
       "1   2020-10-01       2279220.0\n",
       "2   2020-11-01       4988370.0\n",
       "3   2020-12-01       7985956.0\n",
       "4   2021-01-01      10699276.0\n",
       "5   2021-02-01      14863498.0\n",
       "6   2021-03-01      24114067.0\n",
       "7   2021-04-01      32983030.0\n",
       "8   2021-05-01      58064353.0\n",
       "9   2021-06-01      96543781.0\n",
       "10  2021-07-01     164271251.0\n",
       "11  2021-08-01     243358380.0\n",
       "12        Null    1991399489.0"
      ]
     },
     "execution_count": 59,
     "metadata": {},
     "output_type": "execute_result"
    }
   ],
   "source": [
    "faturamento_acumulado['mes'] = faturamento_acumulado['mes'].dt.date\n",
    "faturamento_acumulado['mes'] = faturamento_acumulado['mes'].fillna(\"Null\")\n",
    "faturamento_acumulado['venda_acumulada'] = faturamento_acumulado['venda_acumulada'].apply(lambda x: Decimal(str(x)))\n",
    "faturamento_acumulado.drop(columns='venda_mensal')"
   ]
  },
  {
   "cell_type": "markdown",
   "id": "186194a6-0e4d-4ad6-af9c-2fcc0452f7f3",
   "metadata": {},
   "source": [
    "<h5>DF Faturamento Mensal</h5>\n",
    "<li >Converter data para inteiro, e padronizar valores monetários em Decimal</li>"
   ]
  },
  {
   "cell_type": "code",
   "execution_count": 101,
   "id": "b0f89456-3c47-4dc5-b2bc-3734db8caf96",
   "metadata": {},
   "outputs": [
    {
     "data": {
      "text/html": [
       "<div>\n",
       "<style scoped>\n",
       "    .dataframe tbody tr th:only-of-type {\n",
       "        vertical-align: middle;\n",
       "    }\n",
       "\n",
       "    .dataframe tbody tr th {\n",
       "        vertical-align: top;\n",
       "    }\n",
       "\n",
       "    .dataframe thead th {\n",
       "        text-align: right;\n",
       "    }\n",
       "</style>\n",
       "<table border=\"1\" class=\"dataframe\">\n",
       "  <thead>\n",
       "    <tr style=\"text-align: right;\">\n",
       "      <th></th>\n",
       "      <th>mes</th>\n",
       "      <th>faturamento_mensal</th>\n",
       "    </tr>\n",
       "  </thead>\n",
       "  <tbody>\n",
       "    <tr>\n",
       "      <th>0</th>\n",
       "      <td>1</td>\n",
       "      <td>271332000.0</td>\n",
       "    </tr>\n",
       "    <tr>\n",
       "      <th>1</th>\n",
       "      <td>2</td>\n",
       "      <td>416422200.0</td>\n",
       "    </tr>\n",
       "    <tr>\n",
       "      <th>2</th>\n",
       "      <td>3</td>\n",
       "      <td>925056900.0</td>\n",
       "    </tr>\n",
       "    <tr>\n",
       "      <th>3</th>\n",
       "      <td>4</td>\n",
       "      <td>886896300.0</td>\n",
       "    </tr>\n",
       "    <tr>\n",
       "      <th>4</th>\n",
       "      <td>5</td>\n",
       "      <td>2508132300.0</td>\n",
       "    </tr>\n",
       "    <tr>\n",
       "      <th>5</th>\n",
       "      <td>6</td>\n",
       "      <td>3847942800.0</td>\n",
       "    </tr>\n",
       "    <tr>\n",
       "      <th>6</th>\n",
       "      <td>7</td>\n",
       "      <td>6772747000.0</td>\n",
       "    </tr>\n",
       "    <tr>\n",
       "      <th>7</th>\n",
       "      <td>8</td>\n",
       "      <td>7908712900.0</td>\n",
       "    </tr>\n",
       "    <tr>\n",
       "      <th>8</th>\n",
       "      <td>9</td>\n",
       "      <td>31305000.0</td>\n",
       "    </tr>\n",
       "    <tr>\n",
       "      <th>9</th>\n",
       "      <td>10</td>\n",
       "      <td>196617000.0</td>\n",
       "    </tr>\n",
       "    <tr>\n",
       "      <th>10</th>\n",
       "      <td>11</td>\n",
       "      <td>270915000.0</td>\n",
       "    </tr>\n",
       "    <tr>\n",
       "      <th>11</th>\n",
       "      <td>12</td>\n",
       "      <td>299758600.0</td>\n",
       "    </tr>\n",
       "  </tbody>\n",
       "</table>\n",
       "</div>"
      ],
      "text/plain": [
       "    mes faturamento_mensal\n",
       "0     1        271332000.0\n",
       "1     2        416422200.0\n",
       "2     3        925056900.0\n",
       "3     4        886896300.0\n",
       "4     5       2508132300.0\n",
       "5     6       3847942800.0\n",
       "6     7       6772747000.0\n",
       "7     8       7908712900.0\n",
       "8     9         31305000.0\n",
       "9    10        196617000.0\n",
       "10   11        270915000.0\n",
       "11   12        299758600.0"
      ]
     },
     "execution_count": 101,
     "metadata": {},
     "output_type": "execute_result"
    }
   ],
   "source": [
    "faturamento_mensal['faturamento_mensal'] = (\n",
    "    faturamento_mensal['faturamento_mensal']\n",
    "    .str.replace('R$','', regex = False)\n",
    "    .str.strip()\n",
    "    .str.replace(',', '.', regex = False)\n",
    "    .str.replace('.', '', regex = False)\n",
    "    .astype(float)\n",
    ")\n",
    "faturamento_mensal['mes'] = faturamento_mensal['mes'].astype(int)\n",
    "faturamento_mensal['faturamento_mensal'] = faturamento_mensal['faturamento_mensal'].apply(lambda x: Decimal(str(x)))\n",
    "faturamento_mensal"
   ]
  },
  {
   "cell_type": "markdown",
   "id": "47277d52-d1ab-4f22-82d6-64b2211e8397",
   "metadata": {},
   "source": [
    "<h5>rank_receita_estado_loja</h5>\n",
    "<li >Padronizar valores monetários em Decimal</li>"
   ]
  },
  {
   "cell_type": "code",
   "execution_count": 128,
   "id": "fa222416-4e36-4899-a65d-0f0bc87582a8",
   "metadata": {},
   "outputs": [
    {
     "data": {
      "text/html": [
       "<div>\n",
       "<style scoped>\n",
       "    .dataframe tbody tr th:only-of-type {\n",
       "        vertical-align: middle;\n",
       "    }\n",
       "\n",
       "    .dataframe tbody tr th {\n",
       "        vertical-align: top;\n",
       "    }\n",
       "\n",
       "    .dataframe thead th {\n",
       "        text-align: right;\n",
       "    }\n",
       "</style>\n",
       "<table border=\"1\" class=\"dataframe\">\n",
       "  <thead>\n",
       "    <tr style=\"text-align: right;\">\n",
       "      <th></th>\n",
       "      <th>regiao</th>\n",
       "      <th>loja_nome</th>\n",
       "      <th>receita</th>\n",
       "      <th>ranking_regiao</th>\n",
       "      <th>ranking_receita</th>\n",
       "    </tr>\n",
       "  </thead>\n",
       "  <tbody>\n",
       "    <tr>\n",
       "      <th>0</th>\n",
       "      <td>SP</td>\n",
       "      <td>RONDINELIA HENDRI WALTERCY LTDA</td>\n",
       "      <td>R$ 29.624.679,00</td>\n",
       "      <td>1</td>\n",
       "      <td>1</td>\n",
       "    </tr>\n",
       "    <tr>\n",
       "      <th>1</th>\n",
       "      <td>SP</td>\n",
       "      <td>IGNACIA ROSIDELMA PAVLA LTDA</td>\n",
       "      <td>R$ 25.199.536,00</td>\n",
       "      <td>2</td>\n",
       "      <td>2</td>\n",
       "    </tr>\n",
       "    <tr>\n",
       "      <th>2</th>\n",
       "      <td>SP</td>\n",
       "      <td>GERRIVALDO ROSIELEN VALTEIDE LTDA</td>\n",
       "      <td>R$ 24.649.108,00</td>\n",
       "      <td>3</td>\n",
       "      <td>3</td>\n",
       "    </tr>\n",
       "    <tr>\n",
       "      <th>3</th>\n",
       "      <td>SC</td>\n",
       "      <td>CLAUDINEO JOZENAIDE LUYANE LTDA</td>\n",
       "      <td>R$ 22.276.986,00</td>\n",
       "      <td>1</td>\n",
       "      <td>4</td>\n",
       "    </tr>\n",
       "    <tr>\n",
       "      <th>4</th>\n",
       "      <td>RS</td>\n",
       "      <td>KIYOKO CILEIDI JERY LTDA</td>\n",
       "      <td>R$ 13.108.117,00</td>\n",
       "      <td>1</td>\n",
       "      <td>12</td>\n",
       "    </tr>\n",
       "  </tbody>\n",
       "</table>\n",
       "</div>"
      ],
      "text/plain": [
       "  regiao                          loja_nome           receita  ranking_regiao  \\\n",
       "0     SP    RONDINELIA HENDRI WALTERCY LTDA  R$ 29.624.679,00               1   \n",
       "1     SP       IGNACIA ROSIDELMA PAVLA LTDA  R$ 25.199.536,00               2   \n",
       "2     SP  GERRIVALDO ROSIELEN VALTEIDE LTDA  R$ 24.649.108,00               3   \n",
       "3     SC    CLAUDINEO JOZENAIDE LUYANE LTDA  R$ 22.276.986,00               1   \n",
       "4     RS           KIYOKO CILEIDI JERY LTDA  R$ 13.108.117,00               1   \n",
       "\n",
       "   ranking_receita  \n",
       "0                1  \n",
       "1                2  \n",
       "2                3  \n",
       "3                4  \n",
       "4               12  "
      ]
     },
     "execution_count": 128,
     "metadata": {},
     "output_type": "execute_result"
    }
   ],
   "source": [
    "rank_receita_estado_loja.head()"
   ]
  },
  {
   "cell_type": "code",
   "execution_count": 135,
   "id": "efedcfdc-eba4-4912-ad74-7cb404a70901",
   "metadata": {},
   "outputs": [
    {
     "data": {
      "text/html": [
       "<div>\n",
       "<style scoped>\n",
       "    .dataframe tbody tr th:only-of-type {\n",
       "        vertical-align: middle;\n",
       "    }\n",
       "\n",
       "    .dataframe tbody tr th {\n",
       "        vertical-align: top;\n",
       "    }\n",
       "\n",
       "    .dataframe thead th {\n",
       "        text-align: right;\n",
       "    }\n",
       "</style>\n",
       "<table border=\"1\" class=\"dataframe\">\n",
       "  <thead>\n",
       "    <tr style=\"text-align: right;\">\n",
       "      <th></th>\n",
       "      <th>regiao</th>\n",
       "      <th>loja_nome</th>\n",
       "      <th>receita</th>\n",
       "      <th>ranking_regiao</th>\n",
       "      <th>ranking_receita</th>\n",
       "    </tr>\n",
       "  </thead>\n",
       "  <tbody>\n",
       "    <tr>\n",
       "      <th>0</th>\n",
       "      <td>SP</td>\n",
       "      <td>RONDINELIA HENDRI WALTERCY LTDA</td>\n",
       "      <td>2962467900.0</td>\n",
       "      <td>1</td>\n",
       "      <td>1</td>\n",
       "    </tr>\n",
       "    <tr>\n",
       "      <th>1</th>\n",
       "      <td>SP</td>\n",
       "      <td>IGNACIA ROSIDELMA PAVLA LTDA</td>\n",
       "      <td>2519953600.0</td>\n",
       "      <td>2</td>\n",
       "      <td>2</td>\n",
       "    </tr>\n",
       "    <tr>\n",
       "      <th>2</th>\n",
       "      <td>SP</td>\n",
       "      <td>GERRIVALDO ROSIELEN VALTEIDE LTDA</td>\n",
       "      <td>2464910800.0</td>\n",
       "      <td>3</td>\n",
       "      <td>3</td>\n",
       "    </tr>\n",
       "    <tr>\n",
       "      <th>3</th>\n",
       "      <td>SC</td>\n",
       "      <td>CLAUDINEO JOZENAIDE LUYANE LTDA</td>\n",
       "      <td>2227698600.0</td>\n",
       "      <td>1</td>\n",
       "      <td>4</td>\n",
       "    </tr>\n",
       "    <tr>\n",
       "      <th>4</th>\n",
       "      <td>RS</td>\n",
       "      <td>KIYOKO CILEIDI JERY LTDA</td>\n",
       "      <td>1310811700.0</td>\n",
       "      <td>1</td>\n",
       "      <td>12</td>\n",
       "    </tr>\n",
       "    <tr>\n",
       "      <th>...</th>\n",
       "      <td>...</td>\n",
       "      <td>...</td>\n",
       "      <td>...</td>\n",
       "      <td>...</td>\n",
       "      <td>...</td>\n",
       "    </tr>\n",
       "    <tr>\n",
       "      <th>64</th>\n",
       "      <td>PI</td>\n",
       "      <td>COSMIA IDERLANDO VALTILENE LTDA</td>\n",
       "      <td>4980000.0</td>\n",
       "      <td>1</td>\n",
       "      <td>3099</td>\n",
       "    </tr>\n",
       "    <tr>\n",
       "      <th>65</th>\n",
       "      <td>TO</td>\n",
       "      <td>NORMA JUCEILDO FILEMOM LTDA</td>\n",
       "      <td>4785000.0</td>\n",
       "      <td>2</td>\n",
       "      <td>3124</td>\n",
       "    </tr>\n",
       "    <tr>\n",
       "      <th>66</th>\n",
       "      <td>TO</td>\n",
       "      <td>SUSIETE LIVE DUCIVAN LTDA</td>\n",
       "      <td>4498500.0</td>\n",
       "      <td>3</td>\n",
       "      <td>3200</td>\n",
       "    </tr>\n",
       "    <tr>\n",
       "      <th>67</th>\n",
       "      <td>PI</td>\n",
       "      <td>ADANEUZA OLGAIDE ADELNA LTDA</td>\n",
       "      <td>3585000.0</td>\n",
       "      <td>2</td>\n",
       "      <td>3318</td>\n",
       "    </tr>\n",
       "    <tr>\n",
       "      <th>68</th>\n",
       "      <td>PI</td>\n",
       "      <td>LAURILENA CASSIANE LIXANDRINA LTDA</td>\n",
       "      <td>2700000.0</td>\n",
       "      <td>3</td>\n",
       "      <td>3434</td>\n",
       "    </tr>\n",
       "  </tbody>\n",
       "</table>\n",
       "<p>69 rows × 5 columns</p>\n",
       "</div>"
      ],
      "text/plain": [
       "   regiao                           loja_nome       receita  ranking_regiao  \\\n",
       "0      SP     RONDINELIA HENDRI WALTERCY LTDA  2962467900.0               1   \n",
       "1      SP        IGNACIA ROSIDELMA PAVLA LTDA  2519953600.0               2   \n",
       "2      SP   GERRIVALDO ROSIELEN VALTEIDE LTDA  2464910800.0               3   \n",
       "3      SC     CLAUDINEO JOZENAIDE LUYANE LTDA  2227698600.0               1   \n",
       "4      RS            KIYOKO CILEIDI JERY LTDA  1310811700.0               1   \n",
       "..    ...                                 ...           ...             ...   \n",
       "64     PI     COSMIA IDERLANDO VALTILENE LTDA     4980000.0               1   \n",
       "65     TO         NORMA JUCEILDO FILEMOM LTDA     4785000.0               2   \n",
       "66     TO           SUSIETE LIVE DUCIVAN LTDA     4498500.0               3   \n",
       "67     PI        ADANEUZA OLGAIDE ADELNA LTDA     3585000.0               2   \n",
       "68     PI  LAURILENA CASSIANE LIXANDRINA LTDA     2700000.0               3   \n",
       "\n",
       "    ranking_receita  \n",
       "0                 1  \n",
       "1                 2  \n",
       "2                 3  \n",
       "3                 4  \n",
       "4                12  \n",
       "..              ...  \n",
       "64             3099  \n",
       "65             3124  \n",
       "66             3200  \n",
       "67             3318  \n",
       "68             3434  \n",
       "\n",
       "[69 rows x 5 columns]"
      ]
     },
     "execution_count": 135,
     "metadata": {},
     "output_type": "execute_result"
    }
   ],
   "source": [
    "rank_receita_estado_loja['receita'] = (\n",
    "    rank_receita_estado_loja['receita']\n",
    "    .str.replace('R$', '', regex = False)\n",
    "    .str.strip()\n",
    "    .str.replace(',','.',regex = False)\n",
    "    .str.replace('.','',regex = False)\n",
    "    .astype(float)\n",
    ")\n",
    "rank_receita_estado_loja['receita'] = rank_receita_estado_loja['receita'].apply(lambda x: Decimal(str(x)))\n",
    "rank_receita_estado_loja"
   ]
  },
  {
   "cell_type": "markdown",
   "id": "584f97eb-839d-4b34-b2aa-afae5db7ca0c",
   "metadata": {},
   "source": [
    "<h4>Exportar os arquivos para CSV</h4>"
   ]
  },
  {
   "cell_type": "code",
   "execution_count": 155,
   "id": "2d0f8243-ee03-4e66-ad1e-67bc192b57c7",
   "metadata": {},
   "outputs": [],
   "source": [
    "rank_receita_estado_loja.to_csv('rank_receita_estado_loja.csv', index=False, sep=';')\n",
    "faturamento_acumulado.to_csv('faturamento_acumulado.csv', index=False, sep=';')\n",
    "faturamento_mensal.to_csv('faturamento_mensal.csv', index=False, sep=';')\n",
    "top5_produtos_vendidos.to_csv('top5_produtos_vendidos.csv', index=False, sep=';')\n",
    "faixa_etaria_clientes.to_csv('faixa_etaria_clientes.csv', index=False, sep=';')"
   ]
  },
  {
   "cell_type": "markdown",
   "id": "2b2b750f-ab96-43fc-bf7e-6fd850bb5ea9",
   "metadata": {},
   "source": [
    "<h3>ETL finalizado</h3>"
   ]
  }
 ],
 "metadata": {
  "kernelspec": {
   "display_name": "Python 3 (ipykernel)",
   "language": "python",
   "name": "python3"
  },
  "language_info": {
   "codemirror_mode": {
    "name": "ipython",
    "version": 3
   },
   "file_extension": ".py",
   "mimetype": "text/x-python",
   "name": "python",
   "nbconvert_exporter": "python",
   "pygments_lexer": "ipython3",
   "version": "3.12.7"
  }
 },
 "nbformat": 4,
 "nbformat_minor": 5
}
