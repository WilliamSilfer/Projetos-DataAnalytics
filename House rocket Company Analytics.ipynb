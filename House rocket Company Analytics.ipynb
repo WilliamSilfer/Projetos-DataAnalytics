{
 "cells": [
  {
   "cell_type": "markdown",
   "id": "be84a0ee",
   "metadata": {},
   "source": [
    "# House Sales in King County - USA"
   ]
  },
  {
   "cell_type": "markdown",
   "id": "841ce60f",
   "metadata": {},
   "source": [
    "## About Dataset"
   ]
  },
  {
   "cell_type": "markdown",
   "id": "a5ee1bf0",
   "metadata": {},
   "source": [
    "This dataset contains house sale prices for King County, which includes Seattle. \n",
    "It includes homes sold between May 2014 and May 2015.\n",
    "It's a great dataset for evaluating simple regression models."
   ]
  },
  {
   "cell_type": "markdown",
   "id": "3581d2a2",
   "metadata": {},
   "source": [
    "Variable\tDescription\n",
    "\n",
    "id\tIdentification\n",
    "\n",
    "date\tDate sold\n",
    "\n",
    "price\tSale price\n",
    "\n",
    "bedrooms\tNumber of bedrooms\n",
    "\n",
    "bathrooms\tNumber of bathrooms\n",
    "\n",
    "sqft_liv\tSize of living area in square feet\n",
    "\n",
    "sqft_lot\tSize of the lot in square feet\n",
    "\n",
    "floors\tNumber of floors\n",
    "\n",
    "waterfront\t‘1’ if the property has a waterfront, ‘0’ if not.\n",
    "\n",
    "view\tAn index from 0 to 4 of how good the view of the property was\n",
    "\n",
    "condition\tCondition of the house, ranked from 1 to 5\n",
    "\n",
    "grade\tClassification by construction quality which refers to the types of materials used and the quality of workmanship. \n",
    "Buildings of better quality (higher grade) cost more to build per unit of measure and command higher value. \n",
    "Additional information in: KingCounty\n",
    "\n",
    "sqft_above\tSquare feet above ground\n",
    "\n",
    "sqft_basmt\tSquare feet below ground\n",
    "\n",
    "yr_built\tYear built\n",
    "\n",
    "yr_renov\tYear renovated. ‘0’ if never renovated\n",
    "\n",
    "zipcode\t5 digit zip code\n",
    "\n",
    "lat\tLatitude\n",
    "\n",
    "long\tLongitude\n",
    "\n",
    "squft_liv15\tAverage size of interior housing living space for the closest 15 houses, in square feet\n",
    "\n",
    "squft_lot15\tAverage size of land lots for the closest 15 houses, in square feet\n",
    "\n",
    "Shape_leng\tPolygon length in meters\n",
    "\n",
    "Shape_Area\tPolygon area in meters"
   ]
  },
  {
   "cell_type": "markdown",
   "id": "7c84970e",
   "metadata": {},
   "source": [
    "### Perguntas\n",
    "\n",
    "#### 1 Quantas casas tem 1 quarto? (Feito)\n",
    "#### 2 Quantas casas tem mais de 1 andar?\n",
    "\n",
    "#### 3 quantas casas estão em boas ou más condições\n",
    "\n",
    "#### 4 quantos quartos em média as casas possuem?\n",
    "\n",
    "#### 5 qual o preço médio das casas?\n",
    "\n",
    "#### 6 qual o desvio padrão do preço?\n",
    "\n",
    "#### 7 Existem casas com preços outliers\n",
    "\n",
    "#### 8 quais sao os 1Q e 3Q dos preços?"
   ]
  },
  {
   "cell_type": "markdown",
   "id": "b89fb6d8",
   "metadata": {},
   "source": [
    "Download dataset kaggle: https://www.kaggle.com/datasets/harlfoxem/housesalesprediction"
   ]
  },
  {
   "cell_type": "code",
   "execution_count": 1,
   "id": "6b8c3712",
   "metadata": {},
   "outputs": [],
   "source": [
    "import pandas as pd\n",
    "import seaborn as sns\n",
    "import matplotlib.pyplot as plt\n",
    "%matplotlib inline"
   ]
  },
  {
   "cell_type": "code",
   "execution_count": 2,
   "id": "f3129914",
   "metadata": {},
   "outputs": [],
   "source": [
    "df = pd.read_csv(\"dados/kc_house_data.csv\")"
   ]
  },
  {
   "cell_type": "code",
   "execution_count": 3,
   "id": "f165daab",
   "metadata": {},
   "outputs": [
    {
     "data": {
      "text/html": [
       "<div>\n",
       "<style scoped>\n",
       "    .dataframe tbody tr th:only-of-type {\n",
       "        vertical-align: middle;\n",
       "    }\n",
       "\n",
       "    .dataframe tbody tr th {\n",
       "        vertical-align: top;\n",
       "    }\n",
       "\n",
       "    .dataframe thead th {\n",
       "        text-align: right;\n",
       "    }\n",
       "</style>\n",
       "<table border=\"1\" class=\"dataframe\">\n",
       "  <thead>\n",
       "    <tr style=\"text-align: right;\">\n",
       "      <th></th>\n",
       "      <th>id</th>\n",
       "      <th>date</th>\n",
       "      <th>price</th>\n",
       "      <th>bedrooms</th>\n",
       "      <th>bathrooms</th>\n",
       "      <th>sqft_living</th>\n",
       "      <th>sqft_lot</th>\n",
       "      <th>floors</th>\n",
       "      <th>waterfront</th>\n",
       "      <th>view</th>\n",
       "      <th>...</th>\n",
       "      <th>grade</th>\n",
       "      <th>sqft_above</th>\n",
       "      <th>sqft_basement</th>\n",
       "      <th>yr_built</th>\n",
       "      <th>yr_renovated</th>\n",
       "      <th>zipcode</th>\n",
       "      <th>lat</th>\n",
       "      <th>long</th>\n",
       "      <th>sqft_living15</th>\n",
       "      <th>sqft_lot15</th>\n",
       "    </tr>\n",
       "  </thead>\n",
       "  <tbody>\n",
       "    <tr>\n",
       "      <th>0</th>\n",
       "      <td>7129300520</td>\n",
       "      <td>20141013T000000</td>\n",
       "      <td>221900.0</td>\n",
       "      <td>3</td>\n",
       "      <td>1.00</td>\n",
       "      <td>1180</td>\n",
       "      <td>5650</td>\n",
       "      <td>1.0</td>\n",
       "      <td>0</td>\n",
       "      <td>0</td>\n",
       "      <td>...</td>\n",
       "      <td>7</td>\n",
       "      <td>1180</td>\n",
       "      <td>0</td>\n",
       "      <td>1955</td>\n",
       "      <td>0</td>\n",
       "      <td>98178</td>\n",
       "      <td>47.5112</td>\n",
       "      <td>-122.257</td>\n",
       "      <td>1340</td>\n",
       "      <td>5650</td>\n",
       "    </tr>\n",
       "    <tr>\n",
       "      <th>1</th>\n",
       "      <td>6414100192</td>\n",
       "      <td>20141209T000000</td>\n",
       "      <td>538000.0</td>\n",
       "      <td>3</td>\n",
       "      <td>2.25</td>\n",
       "      <td>2570</td>\n",
       "      <td>7242</td>\n",
       "      <td>2.0</td>\n",
       "      <td>0</td>\n",
       "      <td>0</td>\n",
       "      <td>...</td>\n",
       "      <td>7</td>\n",
       "      <td>2170</td>\n",
       "      <td>400</td>\n",
       "      <td>1951</td>\n",
       "      <td>1991</td>\n",
       "      <td>98125</td>\n",
       "      <td>47.7210</td>\n",
       "      <td>-122.319</td>\n",
       "      <td>1690</td>\n",
       "      <td>7639</td>\n",
       "    </tr>\n",
       "    <tr>\n",
       "      <th>2</th>\n",
       "      <td>5631500400</td>\n",
       "      <td>20150225T000000</td>\n",
       "      <td>180000.0</td>\n",
       "      <td>2</td>\n",
       "      <td>1.00</td>\n",
       "      <td>770</td>\n",
       "      <td>10000</td>\n",
       "      <td>1.0</td>\n",
       "      <td>0</td>\n",
       "      <td>0</td>\n",
       "      <td>...</td>\n",
       "      <td>6</td>\n",
       "      <td>770</td>\n",
       "      <td>0</td>\n",
       "      <td>1933</td>\n",
       "      <td>0</td>\n",
       "      <td>98028</td>\n",
       "      <td>47.7379</td>\n",
       "      <td>-122.233</td>\n",
       "      <td>2720</td>\n",
       "      <td>8062</td>\n",
       "    </tr>\n",
       "    <tr>\n",
       "      <th>3</th>\n",
       "      <td>2487200875</td>\n",
       "      <td>20141209T000000</td>\n",
       "      <td>604000.0</td>\n",
       "      <td>4</td>\n",
       "      <td>3.00</td>\n",
       "      <td>1960</td>\n",
       "      <td>5000</td>\n",
       "      <td>1.0</td>\n",
       "      <td>0</td>\n",
       "      <td>0</td>\n",
       "      <td>...</td>\n",
       "      <td>7</td>\n",
       "      <td>1050</td>\n",
       "      <td>910</td>\n",
       "      <td>1965</td>\n",
       "      <td>0</td>\n",
       "      <td>98136</td>\n",
       "      <td>47.5208</td>\n",
       "      <td>-122.393</td>\n",
       "      <td>1360</td>\n",
       "      <td>5000</td>\n",
       "    </tr>\n",
       "    <tr>\n",
       "      <th>4</th>\n",
       "      <td>1954400510</td>\n",
       "      <td>20150218T000000</td>\n",
       "      <td>510000.0</td>\n",
       "      <td>3</td>\n",
       "      <td>2.00</td>\n",
       "      <td>1680</td>\n",
       "      <td>8080</td>\n",
       "      <td>1.0</td>\n",
       "      <td>0</td>\n",
       "      <td>0</td>\n",
       "      <td>...</td>\n",
       "      <td>8</td>\n",
       "      <td>1680</td>\n",
       "      <td>0</td>\n",
       "      <td>1987</td>\n",
       "      <td>0</td>\n",
       "      <td>98074</td>\n",
       "      <td>47.6168</td>\n",
       "      <td>-122.045</td>\n",
       "      <td>1800</td>\n",
       "      <td>7503</td>\n",
       "    </tr>\n",
       "  </tbody>\n",
       "</table>\n",
       "<p>5 rows × 21 columns</p>\n",
       "</div>"
      ],
      "text/plain": [
       "           id             date     price  bedrooms  bathrooms  sqft_living  \\\n",
       "0  7129300520  20141013T000000  221900.0         3       1.00         1180   \n",
       "1  6414100192  20141209T000000  538000.0         3       2.25         2570   \n",
       "2  5631500400  20150225T000000  180000.0         2       1.00          770   \n",
       "3  2487200875  20141209T000000  604000.0         4       3.00         1960   \n",
       "4  1954400510  20150218T000000  510000.0         3       2.00         1680   \n",
       "\n",
       "   sqft_lot  floors  waterfront  view  ...  grade  sqft_above  sqft_basement  \\\n",
       "0      5650     1.0           0     0  ...      7        1180              0   \n",
       "1      7242     2.0           0     0  ...      7        2170            400   \n",
       "2     10000     1.0           0     0  ...      6         770              0   \n",
       "3      5000     1.0           0     0  ...      7        1050            910   \n",
       "4      8080     1.0           0     0  ...      8        1680              0   \n",
       "\n",
       "   yr_built  yr_renovated  zipcode      lat     long  sqft_living15  \\\n",
       "0      1955             0    98178  47.5112 -122.257           1340   \n",
       "1      1951          1991    98125  47.7210 -122.319           1690   \n",
       "2      1933             0    98028  47.7379 -122.233           2720   \n",
       "3      1965             0    98136  47.5208 -122.393           1360   \n",
       "4      1987             0    98074  47.6168 -122.045           1800   \n",
       "\n",
       "   sqft_lot15  \n",
       "0        5650  \n",
       "1        7639  \n",
       "2        8062  \n",
       "3        5000  \n",
       "4        7503  \n",
       "\n",
       "[5 rows x 21 columns]"
      ]
     },
     "execution_count": 3,
     "metadata": {},
     "output_type": "execute_result"
    }
   ],
   "source": [
    "df.head()"
   ]
  },
  {
   "cell_type": "code",
   "execution_count": 4,
   "id": "366792f7",
   "metadata": {},
   "outputs": [
    {
     "data": {
      "text/plain": [
       "21613"
      ]
     },
     "execution_count": 4,
     "metadata": {},
     "output_type": "execute_result"
    }
   ],
   "source": [
    "df.shape[0]"
   ]
  },
  {
   "cell_type": "code",
   "execution_count": 5,
   "id": "1d83671a",
   "metadata": {},
   "outputs": [
    {
     "name": "stdout",
     "output_type": "stream",
     "text": [
      "<class 'pandas.core.frame.DataFrame'>\n",
      "RangeIndex: 21613 entries, 0 to 21612\n",
      "Data columns (total 21 columns):\n",
      " #   Column         Non-Null Count  Dtype  \n",
      "---  ------         --------------  -----  \n",
      " 0   id             21613 non-null  int64  \n",
      " 1   date           21613 non-null  object \n",
      " 2   price          21613 non-null  float64\n",
      " 3   bedrooms       21613 non-null  int64  \n",
      " 4   bathrooms      21613 non-null  float64\n",
      " 5   sqft_living    21613 non-null  int64  \n",
      " 6   sqft_lot       21613 non-null  int64  \n",
      " 7   floors         21613 non-null  float64\n",
      " 8   waterfront     21613 non-null  int64  \n",
      " 9   view           21613 non-null  int64  \n",
      " 10  condition      21613 non-null  int64  \n",
      " 11  grade          21613 non-null  int64  \n",
      " 12  sqft_above     21613 non-null  int64  \n",
      " 13  sqft_basement  21613 non-null  int64  \n",
      " 14  yr_built       21613 non-null  int64  \n",
      " 15  yr_renovated   21613 non-null  int64  \n",
      " 16  zipcode        21613 non-null  int64  \n",
      " 17  lat            21613 non-null  float64\n",
      " 18  long           21613 non-null  float64\n",
      " 19  sqft_living15  21613 non-null  int64  \n",
      " 20  sqft_lot15     21613 non-null  int64  \n",
      "dtypes: float64(5), int64(15), object(1)\n",
      "memory usage: 3.5+ MB\n"
     ]
    }
   ],
   "source": [
    "df.info()"
   ]
  },
  {
   "cell_type": "code",
   "execution_count": 6,
   "id": "8d83da4b",
   "metadata": {},
   "outputs": [],
   "source": [
    "df_data = df.date\n",
    "df.drop(columns = 'date',inplace = True)"
   ]
  },
  {
   "cell_type": "code",
   "execution_count": 7,
   "id": "6e05b2bf",
   "metadata": {},
   "outputs": [
    {
     "data": {
      "text/plain": [
       "id               0\n",
       "price            0\n",
       "bedrooms         0\n",
       "bathrooms        0\n",
       "sqft_living      0\n",
       "sqft_lot         0\n",
       "floors           0\n",
       "waterfront       0\n",
       "view             0\n",
       "condition        0\n",
       "grade            0\n",
       "sqft_above       0\n",
       "sqft_basement    0\n",
       "yr_built         0\n",
       "yr_renovated     0\n",
       "zipcode          0\n",
       "lat              0\n",
       "long             0\n",
       "sqft_living15    0\n",
       "sqft_lot15       0\n",
       "dtype: int64"
      ]
     },
     "execution_count": 7,
     "metadata": {},
     "output_type": "execute_result"
    }
   ],
   "source": [
    "df.isnull().sum()"
   ]
  },
  {
   "cell_type": "code",
   "execution_count": 8,
   "id": "5c2f3ff6",
   "metadata": {},
   "outputs": [
    {
     "data": {
      "text/plain": [
       "id               0\n",
       "price            0\n",
       "bedrooms         0\n",
       "bathrooms        0\n",
       "sqft_living      0\n",
       "sqft_lot         0\n",
       "floors           0\n",
       "waterfront       0\n",
       "view             0\n",
       "condition        0\n",
       "grade            0\n",
       "sqft_above       0\n",
       "sqft_basement    0\n",
       "yr_built         0\n",
       "yr_renovated     0\n",
       "zipcode          0\n",
       "lat              0\n",
       "long             0\n",
       "sqft_living15    0\n",
       "sqft_lot15       0\n",
       "dtype: int64"
      ]
     },
     "execution_count": 8,
     "metadata": {},
     "output_type": "execute_result"
    }
   ],
   "source": [
    "df.isna().sum()"
   ]
  },
  {
   "cell_type": "markdown",
   "id": "4ffb845d",
   "metadata": {},
   "source": [
    "## ask 1 - Quantas casas tem 1 quarto?"
   ]
  },
  {
   "cell_type": "code",
   "execution_count": 9,
   "id": "8e682935",
   "metadata": {},
   "outputs": [
    {
     "data": {
      "text/plain": [
       "0       13\n",
       "1      199\n",
       "2     2760\n",
       "3     9824\n",
       "4     6882\n",
       "5     1601\n",
       "6      272\n",
       "7       38\n",
       "8       13\n",
       "9        6\n",
       "10       3\n",
       "11       1\n",
       "33       1\n",
       "Name: bedrooms, dtype: int64"
      ]
     },
     "execution_count": 9,
     "metadata": {},
     "output_type": "execute_result"
    }
   ],
   "source": [
    "df_quartos = df.bedrooms.value_counts()\n",
    "df_quartos.sort_index(ascending= True)"
   ]
  },
  {
   "cell_type": "code",
   "execution_count": 10,
   "id": "b5532650",
   "metadata": {},
   "outputs": [
    {
     "name": "stdout",
     "output_type": "stream",
     "text": [
      "Casas com 1 quarto: 199\n"
     ]
    }
   ],
   "source": [
    "print(f'Casas com 1 quarto: {df_quartos[1]}')"
   ]
  },
  {
   "cell_type": "markdown",
   "id": "d8ddb092",
   "metadata": {},
   "source": [
    "## ask 2  - Quantas casas tem mais de 1 andar?"
   ]
  },
  {
   "cell_type": "code",
   "execution_count": 11,
   "id": "4d4b6f61",
   "metadata": {},
   "outputs": [
    {
     "data": {
      "text/plain": [
       "1.0    10680\n",
       "1.5     1910\n",
       "2.0     8241\n",
       "2.5      161\n",
       "3.0      613\n",
       "3.5        8\n",
       "Name: floors, dtype: int64"
      ]
     },
     "execution_count": 11,
     "metadata": {},
     "output_type": "execute_result"
    }
   ],
   "source": [
    "df_andares = df.floors.value_counts()\n",
    "df_andares.sort_index(ascending=True, inplace = True)\n",
    "df_andares"
   ]
  },
  {
   "cell_type": "code",
   "execution_count": 12,
   "id": "8819633a",
   "metadata": {},
   "outputs": [
    {
     "name": "stdout",
     "output_type": "stream",
     "text": [
      "Casas com mais de 1 andares 10933\n"
     ]
    }
   ],
   "source": [
    "print(f\"Casas com mais de 1 andares {df_andares[1.5:].sum()}\")"
   ]
  },
  {
   "cell_type": "markdown",
   "id": "7057e778",
   "metadata": {},
   "source": [
    "## ask 3 - quantas casas estão em boas ou más condições"
   ]
  },
  {
   "cell_type": "code",
   "execution_count": 13,
   "id": "c359c917",
   "metadata": {},
   "outputs": [
    {
     "data": {
      "text/plain": [
       "1       30\n",
       "2      172\n",
       "3    14031\n",
       "4     5679\n",
       "5     1701\n",
       "Name: condition, dtype: int64"
      ]
     },
     "execution_count": 13,
     "metadata": {},
     "output_type": "execute_result"
    }
   ],
   "source": [
    "df_condicoes = df.condition.value_counts()\n",
    "df_condicoes.sort_index(ascending=True, inplace = True)\n",
    "df_condicoes"
   ]
  },
  {
   "cell_type": "code",
   "execution_count": 14,
   "id": "65e6bf36",
   "metadata": {},
   "outputs": [
    {
     "name": "stdout",
     "output_type": "stream",
     "text": [
      "Casas em boas condicões de nota 4 a 5: 7380 casas\n"
     ]
    }
   ],
   "source": [
    "# Boas condições recebe nota 3 até 5\n",
    "print(f\"Casas em boas condicões de nota 4 a 5: {df_condicoes[3:].sum()} casas\")"
   ]
  },
  {
   "cell_type": "code",
   "execution_count": 15,
   "id": "41caa719",
   "metadata": {},
   "outputs": [
    {
     "name": "stdout",
     "output_type": "stream",
     "text": [
      "Casas em más condicões de nota 1 a 2: 202 casas\n"
     ]
    }
   ],
   "source": [
    "# Más condicões recebem notas de 1 até 2\n",
    "print(f\"Casas em más condicões de nota 1 a 2: {df_condicoes[:2].sum()} casas\")"
   ]
  },
  {
   "cell_type": "markdown",
   "id": "0f93268e",
   "metadata": {},
   "source": [
    "## ask 4 - quantos quartos em média as casas possuem?"
   ]
  },
  {
   "cell_type": "code",
   "execution_count": 16,
   "id": "7faaaf2a",
   "metadata": {},
   "outputs": [
    {
     "name": "stdout",
     "output_type": "stream",
     "text": [
      "Média de 3 quartos por casa\n"
     ]
    }
   ],
   "source": [
    "print(f'Média de {df.bedrooms.mean():.0f} quartos por casa')"
   ]
  },
  {
   "cell_type": "markdown",
   "id": "1a9cb74b",
   "metadata": {},
   "source": [
    "## ask 5 - qual o preço médio das casas?"
   ]
  },
  {
   "cell_type": "code",
   "execution_count": 17,
   "id": "995ba1c0",
   "metadata": {},
   "outputs": [
    {
     "name": "stdout",
     "output_type": "stream",
     "text": [
      "Preço médio por casa $540088.14 dólares\n"
     ]
    }
   ],
   "source": [
    "print(f'Preço médio por casa ${df.price.mean():.2f} dólares')"
   ]
  },
  {
   "cell_type": "markdown",
   "id": "2ddfab61",
   "metadata": {},
   "source": [
    "## ask 6 -  qual o desvio padrão do preço?\n"
   ]
  },
  {
   "cell_type": "code",
   "execution_count": 18,
   "id": "adfbd01a",
   "metadata": {},
   "outputs": [
    {
     "name": "stdout",
     "output_type": "stream",
     "text": [
      "Desvio padrao do preco 367127.196\n"
     ]
    }
   ],
   "source": [
    "print(F\"Desvio padrao do preco {df.price.std():.3f}\")"
   ]
  },
  {
   "cell_type": "markdown",
   "id": "04cc2d05",
   "metadata": {},
   "source": [
    "## Ask 7 - Existem casas com preços outliers?"
   ]
  },
  {
   "cell_type": "code",
   "execution_count": 19,
   "id": "e998e8a4",
   "metadata": {},
   "outputs": [
    {
     "data": {
      "text/plain": [
       "count    2.161300e+04\n",
       "mean     5.400881e+05\n",
       "std      3.671272e+05\n",
       "min      7.500000e+04\n",
       "25%      3.219500e+05\n",
       "50%      4.500000e+05\n",
       "75%      6.450000e+05\n",
       "max      7.700000e+06\n",
       "Name: price, dtype: float64"
      ]
     },
     "execution_count": 19,
     "metadata": {},
     "output_type": "execute_result"
    }
   ],
   "source": [
    "df.price.describe()"
   ]
  },
  {
   "cell_type": "code",
   "execution_count": 20,
   "id": "68e0a690",
   "metadata": {},
   "outputs": [
    {
     "data": {
      "text/plain": [
       "Text(0.5, 1.0, 'Preços')"
      ]
     },
     "execution_count": 20,
     "metadata": {},
     "output_type": "execute_result"
    },
    {
     "data": {
      "image/png": "[encoded data removed]",
      "text/plain": [
       "<Figure size 864x288 with 1 Axes>"
      ]
     },
     "metadata": {
      "needs_background": "light"
     },
     "output_type": "display_data"
    }
   ],
   "source": [
    "ax = sns.boxplot(x = 'price', data = df, orient='h')\n",
    "ax.figure.set_size_inches(12,4)\n",
    "ax.set_title(\"Preços\", fontsize = 18)"
   ]
  },
  {
   "cell_type": "code",
   "execution_count": 21,
   "id": "79eef3e6",
   "metadata": {},
   "outputs": [
    {
     "data": {
      "text/plain": [
       "0.25     321950.0\n",
       "0.50     450000.0\n",
       "0.75     645000.0\n",
       "1.00    7700000.0\n",
       "Name: price, dtype: float64"
      ]
     },
     "execution_count": 21,
     "metadata": {},
     "output_type": "execute_result"
    }
   ],
   "source": [
    "df.price.quantile([0.25, 0.50, 0.75, 1])"
   ]
  },
  {
   "cell_type": "code",
   "execution_count": 22,
   "id": "2890b1fe",
   "metadata": {},
   "outputs": [
    {
     "name": "stdout",
     "output_type": "stream",
     "text": [
      "323050.0 1129575.0 -162625.0\n"
     ]
    }
   ],
   "source": [
    "q1 = df.price.quantile(0.25)\n",
    "q3 = df.price.quantile(0.75)\n",
    "iqr = q3-q1\n",
    "upper = q3+(1.5*iqr)\n",
    "lower = q1-(1.5*iqr)\n",
    "print(iqr, upper, lower)"
   ]
  },
  {
   "cell_type": "code",
   "execution_count": 23,
   "id": "2e0c9b06",
   "metadata": {},
   "outputs": [
    {
     "data": {
      "image/png": "[encoded data removed]",
      "text/plain": [
       "<Figure size 432x288 with 1 Axes>"
      ]
     },
     "metadata": {
      "needs_background": "light"
     },
     "output_type": "display_data"
    }
   ],
   "source": [
    "outlier = df.price[(df.price>= lower) & (df.price <= upper)]\n",
    "ax.figure.set_size_inches(12,4)\n",
    "ax = sns.boxplot(x = outlier, data = outlier, orient='h')\n",
    "plt.show()"
   ]
  },
  {
   "cell_type": "code",
   "execution_count": 24,
   "id": "2a99ebe2",
   "metadata": {},
   "outputs": [
    {
     "data": {
      "text/plain": [
       "count    2.046700e+04\n",
       "mean     4.769846e+05\n",
       "std      2.083713e+05\n",
       "min      7.500000e+04\n",
       "25%      3.150000e+05\n",
       "50%      4.375000e+05\n",
       "75%      6.000000e+05\n",
       "max      1.127500e+06\n",
       "Name: price, dtype: float64"
      ]
     },
     "execution_count": 24,
     "metadata": {},
     "output_type": "execute_result"
    }
   ],
   "source": [
    "outlier.describe()"
   ]
  },
  {
   "cell_type": "code",
   "execution_count": 25,
   "id": "61689bcf",
   "metadata": {},
   "outputs": [
    {
     "data": {
      "text/plain": [
       "(False    20148\n",
       " True       319\n",
       " Name: price, dtype: int64,\n",
       " False    19681\n",
       " True       786\n",
       " Name: price, dtype: int64)"
      ]
     },
     "execution_count": 25,
     "metadata": {},
     "output_type": "execute_result"
    }
   ],
   "source": [
    "pd.value_counts(outlier > 1000000), pd.value_counts(outlier < 200000)"
   ]
  },
  {
   "cell_type": "markdown",
   "id": "13726b93",
   "metadata": {},
   "source": [
    "#### Calculando novamente o desvio padrão"
   ]
  },
  {
   "cell_type": "code",
   "execution_count": 26,
   "id": "dc66fc00",
   "metadata": {},
   "outputs": [
    {
     "name": "stdout",
     "output_type": "stream",
     "text": [
      "Desvio padrao do preco após remoção de alguns dados 208371.26\n"
     ]
    }
   ],
   "source": [
    "print(F\"Desvio padrao do preco após remoção de alguns dados {outlier.std():.2f}\")"
   ]
  },
  {
   "cell_type": "code",
   "execution_count": 27,
   "id": "535643dc",
   "metadata": {},
   "outputs": [
    {
     "data": {
      "text/plain": [
       "208371.26167027562"
      ]
     },
     "execution_count": 27,
     "metadata": {},
     "output_type": "execute_result"
    }
   ],
   "source": [
    "outlier.std()"
   ]
  },
  {
   "cell_type": "code",
   "execution_count": 28,
   "id": "ac1b9ba7",
   "metadata": {},
   "outputs": [
    {
     "name": "stdout",
     "output_type": "stream",
     "text": [
      " Quantidade de casas consideradas outliers após o filtro é de: 1146\n"
     ]
    }
   ],
   "source": [
    "print(f\" Quantidade de casas consideradas outliers após o filtro é de: {df.price.shape[0] - outlier.shape[0]}\")"
   ]
  },
  {
   "cell_type": "markdown",
   "id": "ab6edc03",
   "metadata": {},
   "source": [
    "## Ask 8 - quais sao os 1Q e 3Q dos preços?"
   ]
  },
  {
   "cell_type": "code",
   "execution_count": 29,
   "id": "560994d0",
   "metadata": {},
   "outputs": [
    {
     "data": {
      "text/plain": [
       "Text(0.5, 1.0, 'Q1 e Q3 dos preços')"
      ]
     },
     "execution_count": 29,
     "metadata": {},
     "output_type": "execute_result"
    },
    {
     "data": {
      "image/png": "[encoded data removed]",
      "text/plain": [
       "<Figure size 864x720 with 1 Axes>"
      ]
     },
     "metadata": {
      "needs_background": "light"
     },
     "output_type": "display_data"
    }
   ],
   "source": [
    "ax = sns.boxplot(x = 'price', data = df.query('price >= price.quantile(0.25) & price <= price.quantile(0.75)'), orient='h')\n",
    "ax.figure.set_size_inches(12,10)\n",
    "ax.set_title(\"Q1 e Q3 dos preços\")"
   ]
  },
  {
   "cell_type": "code",
   "execution_count": 30,
   "id": "f45c548d",
   "metadata": {},
   "outputs": [
    {
     "name": "stdout",
     "output_type": "stream",
     "text": [
      "1 Quartil 321950.0 || 3 Quartil 645000.0\n"
     ]
    }
   ],
   "source": [
    "print(F\"1 Quartil {df.price.quantile(0.25)} || 3 Quartil {df.price.quantile(0.75)}\")"
   ]
  },
  {
   "cell_type": "markdown",
   "id": "ad961ee0",
   "metadata": {},
   "source": [

   ]
  },
  {
   "cell_type": "markdown",
   "id": "d55ca7be",
   "metadata": {},
   "source": [
    "### Obs: tenho que manter padrões de nomeclatura para variáveis e comentarios, lembre-se !!!"
   ]
  },
  {
   "cell_type": "code",
   "execution_count": null,
   "id": "27d88dca",
   "metadata": {},
   "outputs": [],
   "source": []
  }
 ],
 "metadata": {
  "kernelspec": {
   "display_name": "Python 3 (ipykernel)",
   "language": "python",
   "name": "python3"
  },
  "language_info": {
   "codemirror_mode": {
    "name": "ipython",
    "version": 3
   },
   "file_extension": ".py",
   "mimetype": "text/x-python",
   "name": "python",
   "nbconvert_exporter": "python",
   "pygments_lexer": "ipython3",
   "version": "3.9.7"
  }
 },
 "nbformat": 4,
 "nbformat_minor": 5
}
