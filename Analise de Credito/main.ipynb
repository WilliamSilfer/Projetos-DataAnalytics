{
 "cells": [
  {
   "cell_type": "markdown",
   "metadata": {},
   "source": [
    "# Projeto ADC - Análise de Créditos\n",
    "<p>A proposta deste projeto visa extrair informações do dataset sobre dados crediários de clientes respondendo perguntas que podem ser interessantes, a ferramenta utilizada foi SQL como buscas e armazenamentos de dados, e PowerBI para visualização de dados. Utiliza-sei Python para toda a criação e inserção dos dados no SQL</p>\n",
    "<p>Ambas terão visualizações de dados para colher essas informações mas com suas vantagens</p>"
   ]
  },
  {
   "cell_type": "markdown",
   "metadata": {},
   "source": [
    "<h2> Perguntas </h2>\n",
    "<li>Segmentação de Clientes:</li>\n",
    "\n",
    "Como a distribuição da idade e do sexo dos clientes se correlaciona com os tipos de cartões que eles possuem?<br>\n",
    "Qual é a média do número de dependentes e do salário anual entre diferentes níveis de escolaridade?\n",
    "\n",
    "<li>Análise de Compras:</li>\n",
    "\n",
    "Qual é a média de produtos comprados e valor das transações para clientes com diferentes tipos de cartões?<br>\n",
    "Existe alguma correlação entre a quantidade de transações nos últimos 12 meses e o valor total das transações?\n",
    "\n",
    "<li>Análise de Inatividade:</li>\n",
    "\n",
    "Qual é a média de meses inativos nos últimos 12 meses para diferentes faixas salariais?<br>\n",
    "Os clientes com maior número de meses inativos tendem a ter um tipo de cartão específico?\n",
    "\n",
    "<li>Limite de Crédito e Atividade:</li>\n",
    "\n",
    "Como o limite de crédito se relaciona com a quantidade de produtos comprados e as transações realizadas nos últimos 12 meses?<br>\n",
    "Qual é a média do limite de crédito entre clientes inativos versus clientes ativos?\n",
    "\n",
    "<li>Desempenho e Retenção:</li>\n",
    "\n",
    "Qual é a taxa de churn (abandono) para clientes com diferentes faixas de idade e sexo?<br>\n",
    "Qual é a relação entre a quantidade de produtos comprados e a quantidade de transações realizadas nos últimos 12 meses?\n",
    "\n",
    "<li>Análise Demográfica e Comportamental:</li>\n",
    "\n",
    "Existe algum padrão entre a escolaridade e o número de produtos adquiridos ou transações realizadas?<br>\n",
    "Como a idade e o sexo influenciam o valor das transações e o limite de crédito?\n",
    "\n",
    "<li>Predição e Modelagem:</li>\n",
    "\n",
    "Quais variáveis são mais preditivas para a quantidade de transações realizadas nos últimos 12 meses?<br>\n",
    "É possível prever a inatividade de clientes com base em variáveis como limite de crédito, número de transações e faixa salarial?</li>"
   ]
  },
  {
   "cell_type": "markdown",
   "metadata": {},
   "source": [
    "## Pré-processamento dos dados, criação do banco de dados e tabelas, e inserção dos dados"
   ]
  },
  {
   "cell_type": "code",
   "execution_count": 1,
   "metadata": {},
   "outputs": [],
   "source": [
    "import pandas as pd"
   ]
  },
  {
   "cell_type": "markdown",
   "metadata": {},
   "source": [
    "## Dicionário\n",
    "<li>"
    "idade = idade do cliente\n",
    "sexo = sexo do cliente (F ou M) \n",
    "dependentes = número de dependentes do cliente \n",
    "escolaridade = nível de escolaridade do clientes \n",
    "salario_anual = faixa salarial do cliente \n",
    "tipo_cartao = tipo de cartao do cliente \n",
    "qtd_produtos = quantidade de produtos comprados nos últimos 12 meses \n",
    "iteracoes_12m = quantidade de iterações/transacoes nos ultimos 12 meses \n",
    "meses_inativo_12m = quantidade de meses que o cliente ficou inativo \n",
    "limite_credito = limite de credito do cliente \n",
    "valor_transacoes_12m = valor das transações dos ultimos 12 meses \n",
    "qtd_transacoes_12m = quantidade de transacoes dos ultimos 12 meses </li>"
   ]
  },
  {
   "cell_type": "code",
   "execution_count": 2,
   "metadata": {},
   "outputs": [
    {
     "data": {
      "text/html": [
       "<div>\n",
       "<style scoped>\n",
       "    .dataframe tbody tr th:only-of-type {\n",
       "        vertical-align: middle;\n",
       "    }\n",
       "\n",
       "    .dataframe tbody tr th {\n",
       "        vertical-align: top;\n",
       "    }\n",
       "\n",
       "    .dataframe thead th {\n",
       "        text-align: right;\n",
       "    }\n",
       "</style>\n",
       "<table border=\"1\" class=\"dataframe\">\n",
       "  <thead>\n",
       "    <tr style=\"text-align: right;\">\n",
       "      <th></th>\n",
       "      <th>id</th>\n",
       "      <th>default</th>\n",
       "      <th>idade</th>\n",
       "      <th>sexo</th>\n",
       "      <th>dependentes</th>\n",
       "      <th>escolaridade</th>\n",
       "      <th>estado_civil</th>\n",
       "      <th>salario_anual</th>\n",
       "      <th>tipo_cartao</th>\n",
       "      <th>meses_de_relacionamento</th>\n",
       "      <th>qtd_produtos</th>\n",
       "      <th>iteracoes_12m</th>\n",
       "      <th>meses_inativo_12m</th>\n",
       "      <th>limite_credito</th>\n",
       "      <th>valor_transacoes_12m</th>\n",
       "      <th>qtd_transacoes_12m</th>\n",
       "    </tr>\n",
       "  </thead>\n",
       "  <tbody>\n",
       "    <tr>\n",
       "      <th>0</th>\n",
       "      <td>768805383</td>\n",
       "      <td>0</td>\n",
       "      <td>45</td>\n",
       "      <td>M</td>\n",
       "      <td>3</td>\n",
       "      <td>ensino medio</td>\n",
       "      <td>casado</td>\n",
       "      <td>$60K - $80K</td>\n",
       "      <td>blue</td>\n",
       "      <td>39</td>\n",
       "      <td>5</td>\n",
       "      <td>3</td>\n",
       "      <td>1</td>\n",
       "      <td>12.691,51</td>\n",
       "      <td>1.144,90</td>\n",
       "      <td>42</td>\n",
       "    </tr>\n",
       "    <tr>\n",
       "      <th>1</th>\n",
       "      <td>818770008</td>\n",
       "      <td>0</td>\n",
       "      <td>49</td>\n",
       "      <td>F</td>\n",
       "      <td>5</td>\n",
       "      <td>mestrado</td>\n",
       "      <td>solteiro</td>\n",
       "      <td>menos que $40K</td>\n",
       "      <td>blue</td>\n",
       "      <td>44</td>\n",
       "      <td>6</td>\n",
       "      <td>2</td>\n",
       "      <td>1</td>\n",
       "      <td>8.256,96</td>\n",
       "      <td>1.291,45</td>\n",
       "      <td>33</td>\n",
       "    </tr>\n",
       "    <tr>\n",
       "      <th>2</th>\n",
       "      <td>713982108</td>\n",
       "      <td>0</td>\n",
       "      <td>51</td>\n",
       "      <td>M</td>\n",
       "      <td>3</td>\n",
       "      <td>mestrado</td>\n",
       "      <td>casado</td>\n",
       "      <td>$80K - $120K</td>\n",
       "      <td>blue</td>\n",
       "      <td>36</td>\n",
       "      <td>4</td>\n",
       "      <td>0</td>\n",
       "      <td>1</td>\n",
       "      <td>3.418,56</td>\n",
       "      <td>1.887,72</td>\n",
       "      <td>20</td>\n",
       "    </tr>\n",
       "    <tr>\n",
       "      <th>3</th>\n",
       "      <td>769911858</td>\n",
       "      <td>0</td>\n",
       "      <td>40</td>\n",
       "      <td>F</td>\n",
       "      <td>4</td>\n",
       "      <td>ensino medio</td>\n",
       "      <td>na</td>\n",
       "      <td>menos que $40K</td>\n",
       "      <td>blue</td>\n",
       "      <td>34</td>\n",
       "      <td>3</td>\n",
       "      <td>1</td>\n",
       "      <td>4</td>\n",
       "      <td>3.313,03</td>\n",
       "      <td>1.171,56</td>\n",
       "      <td>20</td>\n",
       "    </tr>\n",
       "    <tr>\n",
       "      <th>4</th>\n",
       "      <td>709106358</td>\n",
       "      <td>0</td>\n",
       "      <td>40</td>\n",
       "      <td>M</td>\n",
       "      <td>3</td>\n",
       "      <td>sem educacao formal</td>\n",
       "      <td>casado</td>\n",
       "      <td>$60K - $80K</td>\n",
       "      <td>blue</td>\n",
       "      <td>21</td>\n",
       "      <td>5</td>\n",
       "      <td>0</td>\n",
       "      <td>1</td>\n",
       "      <td>4.716,22</td>\n",
       "      <td>816,08</td>\n",
       "      <td>28</td>\n",
       "    </tr>\n",
       "  </tbody>\n",
       "</table>\n",
       "</div>"
      ],
      "text/plain": [
       "          id  default  idade sexo  dependentes         escolaridade  \\\n",
       "0  768805383        0     45    M            3         ensino medio   \n",
       "1  818770008        0     49    F            5             mestrado   \n",
       "2  713982108        0     51    M            3             mestrado   \n",
       "3  769911858        0     40    F            4         ensino medio   \n",
       "4  709106358        0     40    M            3  sem educacao formal   \n",
       "\n",
       "  estado_civil   salario_anual tipo_cartao  meses_de_relacionamento  \\\n",
       "0       casado     $60K - $80K        blue                       39   \n",
       "1     solteiro  menos que $40K        blue                       44   \n",
       "2       casado    $80K - $120K        blue                       36   \n",
       "3           na  menos que $40K        blue                       34   \n",
       "4       casado     $60K - $80K        blue                       21   \n",
       "\n",
       "   qtd_produtos  iteracoes_12m  meses_inativo_12m limite_credito  \\\n",
       "0             5              3                  1      12.691,51   \n",
       "1             6              2                  1       8.256,96   \n",
       "2             4              0                  1       3.418,56   \n",
       "3             3              1                  4       3.313,03   \n",
       "4             5              0                  1       4.716,22   \n",
       "\n",
       "  valor_transacoes_12m  qtd_transacoes_12m  \n",
       "0             1.144,90                  42  \n",
       "1             1.291,45                  33  \n",
       "2             1.887,72                  20  \n",
       "3             1.171,56                  20  \n",
       "4               816,08                  28  "
      ]
     },
     "execution_count": 2,
     "metadata": {},
     "output_type": "execute_result"
    }
   ],
   "source": [
    "local = ('../dados/credito.csv')\n",
    "df = pd.read_csv(local, sep = ',')\n",
    "df.head()"
   ]
  },
  {
   "cell_type": "code",
   "execution_count": 11,
   "metadata": {},
   "outputs": [
    {
     "name": "stdout",
     "output_type": "stream",
     "text": [
      "<class 'pandas.core.frame.DataFrame'>\n",
      "RangeIndex: 10127 entries, 0 to 10126\n",
      "Data columns (total 16 columns):\n",
      " #   Column                   Non-Null Count  Dtype \n",
      "---  ------                   --------------  ----- \n",
      " 0   id                       10127 non-null  int64 \n",
      " 1   default                  10127 non-null  int64 \n",
      " 2   idade                    10127 non-null  int64 \n",
      " 3   sexo                     10127 non-null  object\n",
      " 4   dependentes              10127 non-null  int64 \n",
      " 5   escolaridade             10127 non-null  object\n",
      " 6   estado_civil             10127 non-null  object\n",
      " 7   salario_anual            10127 non-null  object\n",
      " 8   tipo_cartao              10127 non-null  object\n",
      " 9   meses_de_relacionamento  10127 non-null  int64 \n",
      " 10  qtd_produtos             10127 non-null  int64 \n",
      " 11  iteracoes_12m            10127 non-null  int64 \n",
      " 12  meses_inativo_12m        10127 non-null  int64 \n",
      " 13  limite_credito           10127 non-null  object\n",
      " 14  valor_transacoes_12m     10127 non-null  object\n",
      " 15  qtd_transacoes_12m       10127 non-null  int64 \n",
      "dtypes: int64(9), object(7)\n",
      "memory usage: 1.2+ MB\n"
     ]
    }
   ],
   "source": [
    "df.info()"
   ]
  },
  {
   "cell_type": "code",
   "execution_count": 16,
   "metadata": {},
   "outputs": [
    {
     "data": {
      "text/plain": [
       "sexo  idade\n",
       "F     44       277\n",
       "      45       272\n",
       "      49       263\n",
       "      47       258\n",
       "      48       249\n",
       "              ... \n",
       "M     27        13\n",
       "      67         2\n",
       "      68         2\n",
       "      70         1\n",
       "      73         1\n",
       "Name: count, Length: 86, dtype: int64"
      ]
     },
     "execution_count": 16,
     "metadata": {},
     "output_type": "execute_result"
    }
   ],
   "source": [
    "df.groupby(by=['sexo'])['idade'].value_counts()"
   ]
  },
  {
   "cell_type": "code",
   "execution_count": 74,
   "metadata": {},
   "outputs": [
    {
     "data": {
      "text/plain": [
       "estado_civil  salario_anual \n",
       "casado        menos que $40K    1628\n",
       "              $40K - $60K        816\n",
       "              $80K - $120K       735\n",
       "              $60K - $80K        661\n",
       "              na                 493\n",
       "              $120K +            354\n",
       "divorciado    menos que $40K     254\n",
       "              $40K - $60K        138\n",
       "              $60K - $80K        108\n",
       "              $80K - $120K       103\n",
       "              na                  93\n",
       "              $120K +             52\n",
       "na            menos que $40K     250\n",
       "              $80K - $120K       136\n",
       "              $40K - $60K        132\n",
       "              $60K - $80K        102\n",
       "              na                  82\n",
       "              $120K +             47\n",
       "solteiro      menos que $40K    1429\n",
       "              $40K - $60K        704\n",
       "              $80K - $120K       561\n",
       "              $60K - $80K        531\n",
       "              na                 444\n",
       "              $120K +            274\n",
       "Name: count, dtype: int64"
      ]
     },
     "execution_count": 74,
     "metadata": {},
     "output_type": "execute_result"
    }
   ],
   "source": [
    "df.groupby(by=['estado_civil'])['salario_anual'].value_counts()"
   ]
  },
  {
   "cell_type": "code",
   "execution_count": null,
   "metadata": {},
   "outputs": [],
   "source": []
  }
 ],
 "metadata": {
  "kernelspec": {
   "display_name": "base",
   "language": "python",
   "name": "python3"
  },
  "language_info": {
   "codemirror_mode": {
    "name": "ipython",
    "version": 3
   },
   "file_extension": ".py",
   "mimetype": "text/x-python",
   "name": "python",
   "nbconvert_exporter": "python",
   "pygments_lexer": "ipython3",
   "version": "3.9.19"
  }
 },
 "nbformat": 4,
 "nbformat_minor": 2
}
